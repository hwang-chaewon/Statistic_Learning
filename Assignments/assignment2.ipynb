{
  "nbformat": 4,
  "nbformat_minor": 0,
  "metadata": {
    "colab": {
      "name": "assignment2",
      "provenance": [],
      "collapsed_sections": []
    },
    "kernelspec": {
      "name": "python3",
      "display_name": "Python 3"
    },
    "accelerator": "GPU"
  },
  "cells": [
    {
      "cell_type": "code",
      "metadata": {
        "id": "hEUZ3qLEWtyg"
      },
      "source": [
        "import torch\n",
        "import matplotlib.pyplot as plt\n",
        "import numpy as np\n",
        "import torch.nn.functional as F\n",
        "from torch import nn\n",
        "from torchvision import datasets, transforms"
      ],
      "execution_count": 7,
      "outputs": []
    },
    {
      "cell_type": "code",
      "metadata": {
        "id": "JSiGUFdkaS38"
      },
      "source": [
        "mnist_transform=transforms.Compose([\n",
        "                              transforms.Resize((28,28)),\n",
        "                              transforms.ToTensor(),\n",
        "                              transforms.Normalize((0.5,), (0.5,)) \n",
        "                              ])     \n",
        "\n",
        "train_dataset = datasets.MNIST(root='./mnist_data', \n",
        "                                  train=True, \n",
        "                                  download=True, \n",
        "                                  transform=mnist_transform)\n",
        "\n",
        "train_loader = torch.utils.data.DataLoader(train_dataset, batch_size=50, shuffle=True) \n",
        "\n",
        "validation_dataset = datasets.MNIST(root='./mnist_data', \n",
        "                                  train=False, \n",
        "                                  download=True, \n",
        "                                  transform=mnist_transform)\n",
        "\n",
        "validation_loader = torch.utils.data.DataLoader(validation_dataset, batch_size=50, shuffle=False) "
      ],
      "execution_count": 8,
      "outputs": []
    },
    {
      "cell_type": "markdown",
      "metadata": {
        "id": "1zbBbsxjegop"
      },
      "source": [
        "# contruct model architecture"
      ]
    },
    {
      "cell_type": "code",
      "metadata": {
        "id": "L8hJOKWdef0h"
      },
      "source": [
        "class NN_MNIST(nn.Module):\n",
        "  def __init__(self, NN_in, H, NN_out):\n",
        "    super().__init__()\n",
        "    self.linear1 = nn.Linear(NN_in, H)\n",
        "    self.linear2 = nn.Linear(H, NN_out)\n",
        "\n",
        "  def forward(self, x):\n",
        "    x = F.relu(self.linear1(x))\n",
        "    x = self.linear2(x) # activation not needed for multi-class classification task\n",
        "    return x"
      ],
      "execution_count": 9,
      "outputs": []
    },
    {
      "cell_type": "markdown",
      "metadata": {
        "id": "cKUaNDY8g8ry"
      },
      "source": [
        "# make model instance \n"
      ]
    },
    {
      "cell_type": "code",
      "metadata": {
        "id": "k-3h4gCGgfs4",
        "colab": {
          "base_uri": "https://localhost:8080/"
        },
        "outputId": "af3a2bea-7bc8-487c-f02c-76ac0c866917"
      },
      "source": [
        "torch.manual_seed(1)\n",
        "model = NN_MNIST(784, 1000,10)\n",
        "model"
      ],
      "execution_count": 10,
      "outputs": [
        {
          "output_type": "execute_result",
          "data": {
            "text/plain": [
              "NN_MNIST(\n",
              "  (linear1): Linear(in_features=784, out_features=1000, bias=True)\n",
              "  (linear2): Linear(in_features=1000, out_features=10, bias=True)\n",
              ")"
            ]
          },
          "metadata": {},
          "execution_count": 10
        }
      ]
    },
    {
      "cell_type": "markdown",
      "metadata": {
        "id": "Lc1nU9M8g_Me"
      },
      "source": [
        "# optimizer "
      ]
    },
    {
      "cell_type": "code",
      "metadata": {
        "id": "nODj6oD3hDyv"
      },
      "source": [
        "optimizer = torch.optim.SGD(model.parameters(), lr=0.05)\n",
        "criterion = nn.CrossEntropyLoss() # cf. BCE()"
      ],
      "execution_count": 11,
      "outputs": []
    },
    {
      "cell_type": "code",
      "metadata": {
        "id": "uhmMC4Vlmsx0",
        "colab": {
          "base_uri": "https://localhost:8080/"
        },
        "outputId": "25206f06-38c5-4f25-c827-fbfea6257d6e"
      },
      "source": [
        "epochs = 10\n",
        "running_loss_history = []\n",
        "running_corrects_history = []\n",
        "\n",
        "validation_running_loss_history = []\n",
        "validation_running_corrects_history = []\n",
        "\n",
        "for eno in range(epochs):\n",
        "\n",
        "  running_loss = 0.0\n",
        "  running_corrects = 0.0\n",
        "  \n",
        "  validation_running_loss = 0.0\n",
        "  validation_running_corrects = 0.0\n",
        "\n",
        "  for inputs, labels in train_loader:       \n",
        "    inputs = inputs.view(inputs.shape[0], -1)\n",
        "    outputs = model(inputs)\n",
        "    loss = criterion(outputs, labels)\n",
        "    \n",
        "    optimizer.zero_grad()\n",
        "    loss.backward()\n",
        "    optimizer.step()\n",
        "\n",
        "    #max function output(max, max_indices)\n",
        "    _, pred_idx = torch.max(outputs, 1)    \n",
        "\n",
        "    running_loss += loss.item() \n",
        "    running_corrects += torch.sum(pred_idx == labels.data)\n",
        "\n",
        "  else:\n",
        "    with torch.no_grad():\n",
        "      for validation_inputs, validation_labels in validation_loader:      \n",
        "        validation_inputs = validation_inputs.view(validation_inputs.shape[0], -1)\n",
        "        validation_outputs = model(validation_inputs)\n",
        "        validation_loss = criterion(validation_outputs, validation_labels)\n",
        "        \n",
        "        #max function output(max, max_indices)\n",
        "        _, pred_idx = torch.max(validation_outputs, 1)   \n",
        "\n",
        "        validation_running_loss += validation_loss.item()\n",
        "        validation_running_corrects += torch.sum(pred_idx == validation_labels.data)\n",
        "\n",
        "    epoch_loss = running_loss/len(train_loader) \n",
        "    running_loss_history.append(epoch_loss)\n",
        "    epoch_acc = (running_corrects.float()/inputs.shape[0]*100)/len(train_loader) \n",
        "    running_corrects_history.append(epoch_acc)\n",
        "    print('--------------- epoch: ', (eno+1), '---------------')\n",
        "    print('training loss: {:.4f}, accuracy {:.4f}'.format(epoch_loss, epoch_acc.item()))   \n",
        "\n",
        "    validation_epoch_loss = validation_running_loss/len(validation_loader) \n",
        "    validation_running_loss_history.append(validation_epoch_loss)\n",
        "    validation_epoch_acc = (validation_running_corrects.float()/validation_inputs.shape[0]*100)/len(validation_loader) \n",
        "    validation_running_corrects_history.append(validation_epoch_acc)    \n",
        "    print('validation loss: {:.4f}, accuracy {:.4f}'.format(validation_epoch_loss, validation_epoch_acc.item())) "
      ],
      "execution_count": 12,
      "outputs": [
        {
          "output_type": "stream",
          "name": "stdout",
          "text": [
            "--------------- epoch:  1 ---------------\n",
            "training loss: 0.3790, accuracy 88.6733\n",
            "validation loss: 0.2192, accuracy 93.2000\n",
            "--------------- epoch:  2 ---------------\n",
            "training loss: 0.1865, accuracy 94.6083\n",
            "validation loss: 0.1502, accuracy 95.6200\n",
            "--------------- epoch:  3 ---------------\n",
            "training loss: 0.1329, accuracy 96.1167\n",
            "validation loss: 0.1221, accuracy 96.3300\n",
            "--------------- epoch:  4 ---------------\n",
            "training loss: 0.1045, accuracy 97.0100\n",
            "validation loss: 0.1054, accuracy 96.7800\n",
            "--------------- epoch:  5 ---------------\n",
            "training loss: 0.0876, accuracy 97.4133\n",
            "validation loss: 0.0892, accuracy 97.3900\n",
            "--------------- epoch:  6 ---------------\n",
            "training loss: 0.0742, accuracy 97.8233\n",
            "validation loss: 0.0855, accuracy 97.3200\n",
            "--------------- epoch:  7 ---------------\n",
            "training loss: 0.0642, accuracy 98.1467\n",
            "validation loss: 0.0772, accuracy 97.6100\n",
            "--------------- epoch:  8 ---------------\n",
            "training loss: 0.0555, accuracy 98.4333\n",
            "validation loss: 0.0732, accuracy 97.7900\n",
            "--------------- epoch:  9 ---------------\n",
            "training loss: 0.0502, accuracy 98.5133\n",
            "validation loss: 0.0737, accuracy 97.7000\n",
            "--------------- epoch:  10 ---------------\n",
            "training loss: 0.0433, accuracy 98.7767\n",
            "validation loss: 0.0665, accuracy 98.0100\n"
          ]
        }
      ]
    },
    {
      "cell_type": "code",
      "metadata": {
        "id": "uvtvO2UHvOrX",
        "colab": {
          "base_uri": "https://localhost:8080/",
          "height": 283
        },
        "outputId": "7d3324b0-2c29-400d-b020-d296ca27c166"
      },
      "source": [
        "plt.plot(running_loss_history, label='training loss')\n",
        "plt.plot(validation_running_loss_history, label='validation loss')\n",
        "plt.legend()"
      ],
      "execution_count": 13,
      "outputs": [
        {
          "output_type": "execute_result",
          "data": {
            "text/plain": [
              "<matplotlib.legend.Legend at 0x7f3a6a998310>"
            ]
          },
          "metadata": {},
          "execution_count": 13
        },
        {
          "output_type": "display_data",
          "data": {
            "image/png": "[encoded data removed]",
            "text/plain": [
              "<Figure size 432x288 with 1 Axes>"
            ]
          },
          "metadata": {
            "needs_background": "light"
          }
        }
      ]
    },
    {
      "cell_type": "code",
      "metadata": {
        "id": "AcLamulgvbzr",
        "colab": {
          "base_uri": "https://localhost:8080/",
          "height": 283
        },
        "outputId": "547121fb-702c-45cf-c080-c7d3e65fe378"
      },
      "source": [
        "plt.plot(running_corrects_history, label='training accuracy(%)')\n",
        "plt.plot(validation_running_corrects_history, label='validation accuracy(%)')\n",
        "plt.legend()"
      ],
      "execution_count": 14,
      "outputs": [
        {
          "output_type": "execute_result",
          "data": {
            "text/plain": [
              "<matplotlib.legend.Legend at 0x7f3a6a998e90>"
            ]
          },
          "metadata": {},
          "execution_count": 14
        },
        {
          "output_type": "display_data",
          "data": {
            "image/png": "[encoded data removed]",
            "text/plain": [
              "<Figure size 432x288 with 1 Axes>"
            ]
          },
          "metadata": {
            "needs_background": "light"
          }
        }
      ]
    }
  ]
}